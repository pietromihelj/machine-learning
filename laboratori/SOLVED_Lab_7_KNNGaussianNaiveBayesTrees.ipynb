{
 "cells": [
  {
   "cell_type": "markdown",
   "metadata": {
    "id": "Lo66foonmvxg"
   },
   "source": [
    "# Classification with KNN, Trees and Gaussian Naive Bayes"
   ]
  },
  {
   "cell_type": "code",
   "execution_count": 1,
   "metadata": {
    "id": "v3kH50wbmjBL"
   },
   "outputs": [],
   "source": [
    "import pandas as pd\n",
    "import numpy as np\n",
    "import matplotlib.pyplot as plt\n",
    "import os"
   ]
  },
  {
   "cell_type": "markdown",
   "metadata": {
    "id": "S_cnE38km64G"
   },
   "source": [
    "Load and split the data from the Unsupervise Learning Dataset (Lab 5, Dry Bean Dataset):"
   ]
  },
  {
   "cell_type": "code",
   "execution_count": 2,
   "metadata": {
    "colab": {
     "base_uri": "https://localhost:8080/"
    },
    "id": "g0eM9w9HnRDf",
    "outputId": "80450ddf-e3bc-41de-8f8e-a0f1ad247c92"
   },
   "outputs": [
    {
     "name": "stdout",
     "output_type": "stream",
     "text": [
      "File already exists\n",
      "File is readable\n"
     ]
    }
   ],
   "source": [
    "FFILE = './Dry_Bean_Dataset.xlsx'\n",
    "if os.path.isfile(FFILE):\n",
    "    print(\"File already exists\")\n",
    "    if os.access(FFILE, os.R_OK):\n",
    "        print (\"File is readable\")\n",
    "    else:\n",
    "        print (\"File is not readable, removing it and downloading again\")\n",
    "        !rm FFILE\n",
    "        !wget \"https://raw.github.com/alexdepremia/ML_IADA_UTs/main/Lab5/Dry_Bean_Dataset.xlsx\"\n",
    "else:\n",
    "    print(\"Either the file is missing or not readable, download it\")\n",
    "    !wget \"https://raw.github.com/alexdepremia/ML_IADA_UTs/main/Lab5/Dry_Bean_Dataset.xlsx\""
   ]
  },
  {
   "cell_type": "code",
   "execution_count": 3,
   "metadata": {
    "colab": {
     "base_uri": "https://localhost:8080/",
     "height": 206
    },
    "id": "CPt8p6GsnTGQ",
    "outputId": "41e2b88b-9ce8-4ecc-ed5c-059cc8a492bf"
   },
   "outputs": [
    {
     "data": {
      "text/html": [
       "<div>\n",
       "<style scoped>\n",
       "    .dataframe tbody tr th:only-of-type {\n",
       "        vertical-align: middle;\n",
       "    }\n",
       "\n",
       "    .dataframe tbody tr th {\n",
       "        vertical-align: top;\n",
       "    }\n",
       "\n",
       "    .dataframe thead th {\n",
       "        text-align: right;\n",
       "    }\n",
       "</style>\n",
       "<table border=\"1\" class=\"dataframe\">\n",
       "  <thead>\n",
       "    <tr style=\"text-align: right;\">\n",
       "      <th></th>\n",
       "      <th>Area</th>\n",
       "      <th>Perimeter</th>\n",
       "      <th>MajorAxisLength</th>\n",
       "      <th>MinorAxisLength</th>\n",
       "      <th>AspectRation</th>\n",
       "      <th>Eccentricity</th>\n",
       "      <th>ConvexArea</th>\n",
       "      <th>EquivDiameter</th>\n",
       "      <th>Extent</th>\n",
       "      <th>Solidity</th>\n",
       "      <th>roundness</th>\n",
       "      <th>Compactness</th>\n",
       "      <th>ShapeFactor1</th>\n",
       "      <th>ShapeFactor2</th>\n",
       "      <th>ShapeFactor3</th>\n",
       "      <th>ShapeFactor4</th>\n",
       "      <th>Class</th>\n",
       "    </tr>\n",
       "  </thead>\n",
       "  <tbody>\n",
       "    <tr>\n",
       "      <th>0</th>\n",
       "      <td>28395</td>\n",
       "      <td>610.291</td>\n",
       "      <td>208.178117</td>\n",
       "      <td>173.888747</td>\n",
       "      <td>1.197191</td>\n",
       "      <td>0.549812</td>\n",
       "      <td>28715</td>\n",
       "      <td>190.141097</td>\n",
       "      <td>0.763923</td>\n",
       "      <td>0.988856</td>\n",
       "      <td>0.958027</td>\n",
       "      <td>0.913358</td>\n",
       "      <td>0.007332</td>\n",
       "      <td>0.003147</td>\n",
       "      <td>0.834222</td>\n",
       "      <td>0.998724</td>\n",
       "      <td>SEKER</td>\n",
       "    </tr>\n",
       "    <tr>\n",
       "      <th>1</th>\n",
       "      <td>28734</td>\n",
       "      <td>638.018</td>\n",
       "      <td>200.524796</td>\n",
       "      <td>182.734419</td>\n",
       "      <td>1.097356</td>\n",
       "      <td>0.411785</td>\n",
       "      <td>29172</td>\n",
       "      <td>191.272750</td>\n",
       "      <td>0.783968</td>\n",
       "      <td>0.984986</td>\n",
       "      <td>0.887034</td>\n",
       "      <td>0.953861</td>\n",
       "      <td>0.006979</td>\n",
       "      <td>0.003564</td>\n",
       "      <td>0.909851</td>\n",
       "      <td>0.998430</td>\n",
       "      <td>SEKER</td>\n",
       "    </tr>\n",
       "    <tr>\n",
       "      <th>2</th>\n",
       "      <td>29380</td>\n",
       "      <td>624.110</td>\n",
       "      <td>212.826130</td>\n",
       "      <td>175.931143</td>\n",
       "      <td>1.209713</td>\n",
       "      <td>0.562727</td>\n",
       "      <td>29690</td>\n",
       "      <td>193.410904</td>\n",
       "      <td>0.778113</td>\n",
       "      <td>0.989559</td>\n",
       "      <td>0.947849</td>\n",
       "      <td>0.908774</td>\n",
       "      <td>0.007244</td>\n",
       "      <td>0.003048</td>\n",
       "      <td>0.825871</td>\n",
       "      <td>0.999066</td>\n",
       "      <td>SEKER</td>\n",
       "    </tr>\n",
       "    <tr>\n",
       "      <th>3</th>\n",
       "      <td>30008</td>\n",
       "      <td>645.884</td>\n",
       "      <td>210.557999</td>\n",
       "      <td>182.516516</td>\n",
       "      <td>1.153638</td>\n",
       "      <td>0.498616</td>\n",
       "      <td>30724</td>\n",
       "      <td>195.467062</td>\n",
       "      <td>0.782681</td>\n",
       "      <td>0.976696</td>\n",
       "      <td>0.903936</td>\n",
       "      <td>0.928329</td>\n",
       "      <td>0.007017</td>\n",
       "      <td>0.003215</td>\n",
       "      <td>0.861794</td>\n",
       "      <td>0.994199</td>\n",
       "      <td>SEKER</td>\n",
       "    </tr>\n",
       "    <tr>\n",
       "      <th>4</th>\n",
       "      <td>30140</td>\n",
       "      <td>620.134</td>\n",
       "      <td>201.847882</td>\n",
       "      <td>190.279279</td>\n",
       "      <td>1.060798</td>\n",
       "      <td>0.333680</td>\n",
       "      <td>30417</td>\n",
       "      <td>195.896503</td>\n",
       "      <td>0.773098</td>\n",
       "      <td>0.990893</td>\n",
       "      <td>0.984877</td>\n",
       "      <td>0.970516</td>\n",
       "      <td>0.006697</td>\n",
       "      <td>0.003665</td>\n",
       "      <td>0.941900</td>\n",
       "      <td>0.999166</td>\n",
       "      <td>SEKER</td>\n",
       "    </tr>\n",
       "  </tbody>\n",
       "</table>\n",
       "</div>"
      ],
      "text/plain": [
       "    Area  Perimeter  MajorAxisLength  MinorAxisLength  AspectRation  \\\n",
       "0  28395    610.291       208.178117       173.888747      1.197191   \n",
       "1  28734    638.018       200.524796       182.734419      1.097356   \n",
       "2  29380    624.110       212.826130       175.931143      1.209713   \n",
       "3  30008    645.884       210.557999       182.516516      1.153638   \n",
       "4  30140    620.134       201.847882       190.279279      1.060798   \n",
       "\n",
       "   Eccentricity  ConvexArea  EquivDiameter    Extent  Solidity  roundness  \\\n",
       "0      0.549812       28715     190.141097  0.763923  0.988856   0.958027   \n",
       "1      0.411785       29172     191.272750  0.783968  0.984986   0.887034   \n",
       "2      0.562727       29690     193.410904  0.778113  0.989559   0.947849   \n",
       "3      0.498616       30724     195.467062  0.782681  0.976696   0.903936   \n",
       "4      0.333680       30417     195.896503  0.773098  0.990893   0.984877   \n",
       "\n",
       "   Compactness  ShapeFactor1  ShapeFactor2  ShapeFactor3  ShapeFactor4  Class  \n",
       "0     0.913358      0.007332      0.003147      0.834222      0.998724  SEKER  \n",
       "1     0.953861      0.006979      0.003564      0.909851      0.998430  SEKER  \n",
       "2     0.908774      0.007244      0.003048      0.825871      0.999066  SEKER  \n",
       "3     0.928329      0.007017      0.003215      0.861794      0.994199  SEKER  \n",
       "4     0.970516      0.006697      0.003665      0.941900      0.999166  SEKER  "
      ]
     },
     "execution_count": 3,
     "metadata": {},
     "output_type": "execute_result"
    }
   ],
   "source": [
    "# Load the data\n",
    "data = pd.read_excel('./Dry_Bean_Dataset.xlsx')\n",
    "data.head()"
   ]
  },
  {
   "cell_type": "markdown",
   "metadata": {
    "id": "H5m3HOy0nny0"
   },
   "source": [
    "Divide features and label. Split the data in train and test set and **after that** normalize them:"
   ]
  },
  {
   "cell_type": "code",
   "execution_count": 11,
   "metadata": {},
   "outputs": [],
   "source": [
    "from sklearn.model_selection import train_test_split\n",
    "from sklearn import preprocessing\n",
    "X = data\n",
    "Y = X['Class']\n",
    "X = X.drop('Class',axis = 1)\n",
    "col = X.columns\n",
    "\n",
    "x_tr, x_te,y_tr,y_te = train_test_split(X,Y,random_state = 5)\n",
    "\n",
    "tr_scaler = preprocessing.StandardScaler().fit(x_tr)\n",
    "x_tr = tr_scaler.transform(x_tr)\n",
    "x_tr = pd.DataFrame(x_tr, columns=col)\n",
    "x_tr['Class'] = y_tr.values\n",
    "\n",
    "te_scaler = preprocessing.StandardScaler().fit(x_te)\n",
    "x_te = te_scaler.transform(x_te)\n",
    "x_te = pd.DataFrame(x_te, columns=col)\n",
    "x_te['Class'] = y_te.values"
   ]
  },
  {
   "cell_type": "code",
   "execution_count": 12,
   "metadata": {},
   "outputs": [
    {
     "data": {
      "text/html": [
       "<div>\n",
       "<style scoped>\n",
       "    .dataframe tbody tr th:only-of-type {\n",
       "        vertical-align: middle;\n",
       "    }\n",
       "\n",
       "    .dataframe tbody tr th {\n",
       "        vertical-align: top;\n",
       "    }\n",
       "\n",
       "    .dataframe thead th {\n",
       "        text-align: right;\n",
       "    }\n",
       "</style>\n",
       "<table border=\"1\" class=\"dataframe\">\n",
       "  <thead>\n",
       "    <tr style=\"text-align: right;\">\n",
       "      <th></th>\n",
       "      <th>Area</th>\n",
       "      <th>Perimeter</th>\n",
       "      <th>MajorAxisLength</th>\n",
       "      <th>MinorAxisLength</th>\n",
       "      <th>AspectRation</th>\n",
       "      <th>Eccentricity</th>\n",
       "      <th>ConvexArea</th>\n",
       "      <th>EquivDiameter</th>\n",
       "      <th>Extent</th>\n",
       "      <th>Solidity</th>\n",
       "      <th>roundness</th>\n",
       "      <th>Compactness</th>\n",
       "      <th>ShapeFactor1</th>\n",
       "      <th>ShapeFactor2</th>\n",
       "      <th>ShapeFactor3</th>\n",
       "      <th>ShapeFactor4</th>\n",
       "      <th>Class</th>\n",
       "    </tr>\n",
       "  </thead>\n",
       "  <tbody>\n",
       "    <tr>\n",
       "      <th>0</th>\n",
       "      <td>-0.365400</td>\n",
       "      <td>-0.403300</td>\n",
       "      <td>-0.376399</td>\n",
       "      <td>-0.313440</td>\n",
       "      <td>-0.217938</td>\n",
       "      <td>0.061476</td>\n",
       "      <td>-0.372884</td>\n",
       "      <td>-0.353457</td>\n",
       "      <td>1.288990</td>\n",
       "      <td>1.113580</td>\n",
       "      <td>0.452555</td>\n",
       "      <td>0.107429</td>\n",
       "      <td>0.211468</td>\n",
       "      <td>0.099552</td>\n",
       "      <td>0.069273</td>\n",
       "      <td>-0.075162</td>\n",
       "      <td>SIRA</td>\n",
       "    </tr>\n",
       "    <tr>\n",
       "      <th>1</th>\n",
       "      <td>0.898302</td>\n",
       "      <td>1.078153</td>\n",
       "      <td>1.078760</td>\n",
       "      <td>0.987730</td>\n",
       "      <td>0.367612</td>\n",
       "      <td>0.555347</td>\n",
       "      <td>0.886243</td>\n",
       "      <td>1.098425</td>\n",
       "      <td>1.304088</td>\n",
       "      <td>0.707185</td>\n",
       "      <td>-0.460215</td>\n",
       "      <td>-0.471985</td>\n",
       "      <td>-1.221492</td>\n",
       "      <td>-0.987805</td>\n",
       "      <td>-0.500676</td>\n",
       "      <td>-0.151516</td>\n",
       "      <td>CALI</td>\n",
       "    </tr>\n",
       "    <tr>\n",
       "      <th>2</th>\n",
       "      <td>-0.112518</td>\n",
       "      <td>-0.160124</td>\n",
       "      <td>-0.483562</td>\n",
       "      <td>0.569790</td>\n",
       "      <td>-1.473833</td>\n",
       "      <td>-1.943742</td>\n",
       "      <td>-0.115282</td>\n",
       "      <td>-0.022695</td>\n",
       "      <td>-0.012195</td>\n",
       "      <td>0.261752</td>\n",
       "      <td>0.932650</td>\n",
       "      <td>1.698110</td>\n",
       "      <td>-0.859059</td>\n",
       "      <td>0.992126</td>\n",
       "      <td>1.766336</td>\n",
       "      <td>0.663225</td>\n",
       "      <td>SEKER</td>\n",
       "    </tr>\n",
       "    <tr>\n",
       "      <th>3</th>\n",
       "      <td>-0.807235</td>\n",
       "      <td>-0.999757</td>\n",
       "      <td>-0.886344</td>\n",
       "      <td>-1.091831</td>\n",
       "      <td>0.044749</td>\n",
       "      <td>0.303202</td>\n",
       "      <td>-0.806653</td>\n",
       "      <td>-1.011765</td>\n",
       "      <td>-0.774045</td>\n",
       "      <td>0.088547</td>\n",
       "      <td>0.393328</td>\n",
       "      <td>-0.144208</td>\n",
       "      <td>1.579435</td>\n",
       "      <td>0.505742</td>\n",
       "      <td>-0.181417</td>\n",
       "      <td>0.531998</td>\n",
       "      <td>DERMASON</td>\n",
       "    </tr>\n",
       "    <tr>\n",
       "      <th>4</th>\n",
       "      <td>0.495250</td>\n",
       "      <td>0.880614</td>\n",
       "      <td>0.565857</td>\n",
       "      <td>0.706761</td>\n",
       "      <td>-0.031774</td>\n",
       "      <td>0.236545</td>\n",
       "      <td>0.509578</td>\n",
       "      <td>0.682117</td>\n",
       "      <td>-0.845666</td>\n",
       "      <td>-1.532137</td>\n",
       "      <td>-1.592100</td>\n",
       "      <td>-0.061648</td>\n",
       "      <td>-0.991541</td>\n",
       "      <td>-0.618587</td>\n",
       "      <td>-0.099703</td>\n",
       "      <td>0.741324</td>\n",
       "      <td>BARBUNYA</td>\n",
       "    </tr>\n",
       "  </tbody>\n",
       "</table>\n",
       "</div>"
      ],
      "text/plain": [
       "       Area  Perimeter  MajorAxisLength  MinorAxisLength  AspectRation  \\\n",
       "0 -0.365400  -0.403300        -0.376399        -0.313440     -0.217938   \n",
       "1  0.898302   1.078153         1.078760         0.987730      0.367612   \n",
       "2 -0.112518  -0.160124        -0.483562         0.569790     -1.473833   \n",
       "3 -0.807235  -0.999757        -0.886344        -1.091831      0.044749   \n",
       "4  0.495250   0.880614         0.565857         0.706761     -0.031774   \n",
       "\n",
       "   Eccentricity  ConvexArea  EquivDiameter    Extent  Solidity  roundness  \\\n",
       "0      0.061476   -0.372884      -0.353457  1.288990  1.113580   0.452555   \n",
       "1      0.555347    0.886243       1.098425  1.304088  0.707185  -0.460215   \n",
       "2     -1.943742   -0.115282      -0.022695 -0.012195  0.261752   0.932650   \n",
       "3      0.303202   -0.806653      -1.011765 -0.774045  0.088547   0.393328   \n",
       "4      0.236545    0.509578       0.682117 -0.845666 -1.532137  -1.592100   \n",
       "\n",
       "   Compactness  ShapeFactor1  ShapeFactor2  ShapeFactor3  ShapeFactor4  \\\n",
       "0     0.107429      0.211468      0.099552      0.069273     -0.075162   \n",
       "1    -0.471985     -1.221492     -0.987805     -0.500676     -0.151516   \n",
       "2     1.698110     -0.859059      0.992126      1.766336      0.663225   \n",
       "3    -0.144208      1.579435      0.505742     -0.181417      0.531998   \n",
       "4    -0.061648     -0.991541     -0.618587     -0.099703      0.741324   \n",
       "\n",
       "      Class  \n",
       "0      SIRA  \n",
       "1      CALI  \n",
       "2     SEKER  \n",
       "3  DERMASON  \n",
       "4  BARBUNYA  "
      ]
     },
     "execution_count": 12,
     "metadata": {},
     "output_type": "execute_result"
    }
   ],
   "source": [
    "x_tr.head()"
   ]
  },
  {
   "cell_type": "code",
   "execution_count": 13,
   "metadata": {},
   "outputs": [
    {
     "data": {
      "text/plain": [
       "array(['SIRA', 'CALI', 'SEKER', 'DERMASON', 'BARBUNYA', 'HOROZ', 'BOMBAY'],\n",
       "      dtype=object)"
      ]
     },
     "execution_count": 13,
     "metadata": {},
     "output_type": "execute_result"
    }
   ],
   "source": [
    "x_tr['Class'].unique()"
   ]
  },
  {
   "cell_type": "code",
   "execution_count": 14,
   "metadata": {
    "colab": {
     "base_uri": "https://localhost:8080/",
     "height": 206
    },
    "id": "ZpAplcpvnunq",
    "outputId": "652e5d72-e69d-4349-de38-254c9b06199a"
   },
   "outputs": [
    {
     "data": {
      "text/html": [
       "<div>\n",
       "<style scoped>\n",
       "    .dataframe tbody tr th:only-of-type {\n",
       "        vertical-align: middle;\n",
       "    }\n",
       "\n",
       "    .dataframe tbody tr th {\n",
       "        vertical-align: top;\n",
       "    }\n",
       "\n",
       "    .dataframe thead th {\n",
       "        text-align: right;\n",
       "    }\n",
       "</style>\n",
       "<table border=\"1\" class=\"dataframe\">\n",
       "  <thead>\n",
       "    <tr style=\"text-align: right;\">\n",
       "      <th></th>\n",
       "      <th>Area</th>\n",
       "      <th>Perimeter</th>\n",
       "      <th>MajorAxisLength</th>\n",
       "      <th>MinorAxisLength</th>\n",
       "      <th>AspectRation</th>\n",
       "      <th>Eccentricity</th>\n",
       "      <th>ConvexArea</th>\n",
       "      <th>EquivDiameter</th>\n",
       "      <th>Extent</th>\n",
       "      <th>Solidity</th>\n",
       "      <th>roundness</th>\n",
       "      <th>Compactness</th>\n",
       "      <th>ShapeFactor1</th>\n",
       "      <th>ShapeFactor2</th>\n",
       "      <th>ShapeFactor3</th>\n",
       "      <th>ShapeFactor4</th>\n",
       "      <th>Class</th>\n",
       "    </tr>\n",
       "  </thead>\n",
       "  <tbody>\n",
       "    <tr>\n",
       "      <th>0</th>\n",
       "      <td>23937</td>\n",
       "      <td>579.371</td>\n",
       "      <td>224.318894</td>\n",
       "      <td>136.195165</td>\n",
       "      <td>1.647040</td>\n",
       "      <td>0.794587</td>\n",
       "      <td>24243</td>\n",
       "      <td>174.578163</td>\n",
       "      <td>0.710381</td>\n",
       "      <td>0.987378</td>\n",
       "      <td>0.896120</td>\n",
       "      <td>0.778259</td>\n",
       "      <td>0.009371</td>\n",
       "      <td>0.002121</td>\n",
       "      <td>0.605687</td>\n",
       "      <td>0.997590</td>\n",
       "      <td>DERMASON</td>\n",
       "    </tr>\n",
       "    <tr>\n",
       "      <th>1</th>\n",
       "      <td>84049</td>\n",
       "      <td>1146.398</td>\n",
       "      <td>395.451249</td>\n",
       "      <td>271.309506</td>\n",
       "      <td>1.457565</td>\n",
       "      <td>0.727530</td>\n",
       "      <td>85440</td>\n",
       "      <td>327.130724</td>\n",
       "      <td>0.788083</td>\n",
       "      <td>0.983720</td>\n",
       "      <td>0.803659</td>\n",
       "      <td>0.827234</td>\n",
       "      <td>0.004705</td>\n",
       "      <td>0.001359</td>\n",
       "      <td>0.684316</td>\n",
       "      <td>0.997435</td>\n",
       "      <td>BARBUNYA</td>\n",
       "    </tr>\n",
       "    <tr>\n",
       "      <th>2</th>\n",
       "      <td>41240</td>\n",
       "      <td>798.716</td>\n",
       "      <td>315.689810</td>\n",
       "      <td>167.503739</td>\n",
       "      <td>1.884673</td>\n",
       "      <td>0.847625</td>\n",
       "      <td>41796</td>\n",
       "      <td>229.147112</td>\n",
       "      <td>0.614816</td>\n",
       "      <td>0.986697</td>\n",
       "      <td>0.812351</td>\n",
       "      <td>0.725862</td>\n",
       "      <td>0.007655</td>\n",
       "      <td>0.001311</td>\n",
       "      <td>0.526875</td>\n",
       "      <td>0.992987</td>\n",
       "      <td>HOROZ</td>\n",
       "    </tr>\n",
       "    <tr>\n",
       "      <th>3</th>\n",
       "      <td>69221</td>\n",
       "      <td>1034.794</td>\n",
       "      <td>420.185894</td>\n",
       "      <td>212.601149</td>\n",
       "      <td>1.976405</td>\n",
       "      <td>0.862552</td>\n",
       "      <td>70186</td>\n",
       "      <td>296.875251</td>\n",
       "      <td>0.803961</td>\n",
       "      <td>0.986251</td>\n",
       "      <td>0.812344</td>\n",
       "      <td>0.706533</td>\n",
       "      <td>0.006070</td>\n",
       "      <td>0.000933</td>\n",
       "      <td>0.499189</td>\n",
       "      <td>0.986600</td>\n",
       "      <td>CALI</td>\n",
       "    </tr>\n",
       "    <tr>\n",
       "      <th>4</th>\n",
       "      <td>30440</td>\n",
       "      <td>637.929</td>\n",
       "      <td>236.863145</td>\n",
       "      <td>164.134081</td>\n",
       "      <td>1.443108</td>\n",
       "      <td>0.720987</td>\n",
       "      <td>30717</td>\n",
       "      <td>196.869022</td>\n",
       "      <td>0.773669</td>\n",
       "      <td>0.990982</td>\n",
       "      <td>0.939961</td>\n",
       "      <td>0.831151</td>\n",
       "      <td>0.007781</td>\n",
       "      <td>0.002291</td>\n",
       "      <td>0.690812</td>\n",
       "      <td>0.996916</td>\n",
       "      <td>DERMASON</td>\n",
       "    </tr>\n",
       "  </tbody>\n",
       "</table>\n",
       "</div>"
      ],
      "text/plain": [
       "    Area  Perimeter  MajorAxisLength  MinorAxisLength  AspectRation  \\\n",
       "0  23937    579.371       224.318894       136.195165      1.647040   \n",
       "1  84049   1146.398       395.451249       271.309506      1.457565   \n",
       "2  41240    798.716       315.689810       167.503739      1.884673   \n",
       "3  69221   1034.794       420.185894       212.601149      1.976405   \n",
       "4  30440    637.929       236.863145       164.134081      1.443108   \n",
       "\n",
       "   Eccentricity  ConvexArea  EquivDiameter    Extent  Solidity  roundness  \\\n",
       "0      0.794587       24243     174.578163  0.710381  0.987378   0.896120   \n",
       "1      0.727530       85440     327.130724  0.788083  0.983720   0.803659   \n",
       "2      0.847625       41796     229.147112  0.614816  0.986697   0.812351   \n",
       "3      0.862552       70186     296.875251  0.803961  0.986251   0.812344   \n",
       "4      0.720987       30717     196.869022  0.773669  0.990982   0.939961   \n",
       "\n",
       "   Compactness  ShapeFactor1  ShapeFactor2  ShapeFactor3  ShapeFactor4  \\\n",
       "0     0.778259      0.009371      0.002121      0.605687      0.997590   \n",
       "1     0.827234      0.004705      0.001359      0.684316      0.997435   \n",
       "2     0.725862      0.007655      0.001311      0.526875      0.992987   \n",
       "3     0.706533      0.006070      0.000933      0.499189      0.986600   \n",
       "4     0.831151      0.007781      0.002291      0.690812      0.996916   \n",
       "\n",
       "      Class  \n",
       "0  DERMASON  \n",
       "1  BARBUNYA  \n",
       "2     HOROZ  \n",
       "3      CALI  \n",
       "4  DERMASON  "
      ]
     },
     "execution_count": 14,
     "metadata": {},
     "output_type": "execute_result"
    }
   ],
   "source": [
    "data = data.sample(frac=1,random_state=0).reset_index(drop=True) # random shuffle\n",
    "data.head()"
   ]
  },
  {
   "cell_type": "code",
   "execution_count": 15,
   "metadata": {
    "colab": {
     "base_uri": "https://localhost:8080/"
    },
    "id": "pLpLk6q7NTNQ",
    "outputId": "19bc6c0d-96b0-4928-c95a-16d83c8d7ecd"
   },
   "outputs": [
    {
     "data": {
      "text/plain": [
       "(13611, 17)"
      ]
     },
     "execution_count": 15,
     "metadata": {},
     "output_type": "execute_result"
    }
   ],
   "source": [
    "data.shape"
   ]
  },
  {
   "cell_type": "code",
   "execution_count": 16,
   "metadata": {},
   "outputs": [
    {
     "data": {
      "text/plain": [
       "array(['DERMASON', 'BARBUNYA', 'HOROZ', 'CALI', 'BOMBAY', 'SIRA', 'SEKER'],\n",
       "      dtype=object)"
      ]
     },
     "execution_count": 16,
     "metadata": {},
     "output_type": "execute_result"
    }
   ],
   "source": [
    "data['Class'].unique()"
   ]
  },
  {
   "cell_type": "code",
   "execution_count": 17,
   "metadata": {
    "id": "K9I8tR3gZanQ"
   },
   "outputs": [],
   "source": [
    "train_data = data.iloc[:10000,:]\n",
    "test_data = data.iloc[10000:,:]"
   ]
  },
  {
   "cell_type": "code",
   "execution_count": 18,
   "metadata": {
    "colab": {
     "base_uri": "https://localhost:8080/"
    },
    "id": "w4Sai6BSZkWf",
    "outputId": "ab8ce9d4-fccd-4e0a-8c20-4620f4d14a1d"
   },
   "outputs": [
    {
     "name": "stdout",
     "output_type": "stream",
     "text": [
      "(10000, 17)\n",
      "(3611, 17)\n"
     ]
    }
   ],
   "source": [
    "print(train_data.shape)\n",
    "print(test_data.shape)"
   ]
  },
  {
   "cell_type": "code",
   "execution_count": 19,
   "metadata": {
    "id": "tIl6l3KXZsO3"
   },
   "outputs": [],
   "source": [
    "# normalize train and test dataset\n",
    "from sklearn import preprocessing\n",
    "\n",
    "# Extract the class labels from the training dataset\n",
    "label_train = train_data['Class']\n",
    "# Remove the class labels from the training dataset\n",
    "train_data = train_data.drop('Class', axis=1)\n",
    "# Save the column names for later use\n",
    "columns_name = train_data.columns\n",
    "\n",
    "# Initialize a StandardScaler and fit it to the training data\n",
    "train_scaler = preprocessing.StandardScaler().fit(train_data)\n",
    "# Transform the training data using the scaler\n",
    "train_data = train_scaler.transform(train_data)\n",
    "# Create a DataFrame with the scaled training data and restore column names\n",
    "train_data = pd.DataFrame(train_data, columns=columns_name)\n",
    "# Add the class labels back to the scaled training dataset\n",
    "train_data['Class'] = label_train\n",
    "\n",
    "# Extract the class labels from the test dataset\n",
    "label_test = test_data['Class']\n",
    "# Remove the class labels from the test dataset\n",
    "test_data = test_data.drop('Class', axis=1)\n",
    "# Initialize a StandardScaler and fit it to the test data\n",
    "test_scaler = preprocessing.StandardScaler().fit(test_data)\n",
    "# Transform the test data using the scaler\n",
    "test_data = test_scaler.transform(test_data)\n",
    "# Create a DataFrame with the scaled test data and restore column names\n",
    "test_data = pd.DataFrame(test_data, columns=columns_name)\n",
    "# Add the class labels back to the scaled test dataset\n",
    "test_data['Class'] = label_test.values # .values added to prevent nans to appear"
   ]
  },
  {
   "cell_type": "code",
   "execution_count": 20,
   "metadata": {
    "colab": {
     "base_uri": "https://localhost:8080/",
     "height": 206
    },
    "id": "WdaI84S-eDNZ",
    "outputId": "0f0749f3-f5f0-4c55-c400-5aa7becfeeda"
   },
   "outputs": [
    {
     "data": {
      "text/html": [
       "<div>\n",
       "<style scoped>\n",
       "    .dataframe tbody tr th:only-of-type {\n",
       "        vertical-align: middle;\n",
       "    }\n",
       "\n",
       "    .dataframe tbody tr th {\n",
       "        vertical-align: top;\n",
       "    }\n",
       "\n",
       "    .dataframe thead th {\n",
       "        text-align: right;\n",
       "    }\n",
       "</style>\n",
       "<table border=\"1\" class=\"dataframe\">\n",
       "  <thead>\n",
       "    <tr style=\"text-align: right;\">\n",
       "      <th></th>\n",
       "      <th>Area</th>\n",
       "      <th>Perimeter</th>\n",
       "      <th>MajorAxisLength</th>\n",
       "      <th>MinorAxisLength</th>\n",
       "      <th>AspectRation</th>\n",
       "      <th>Eccentricity</th>\n",
       "      <th>ConvexArea</th>\n",
       "      <th>EquivDiameter</th>\n",
       "      <th>Extent</th>\n",
       "      <th>Solidity</th>\n",
       "      <th>roundness</th>\n",
       "      <th>Compactness</th>\n",
       "      <th>ShapeFactor1</th>\n",
       "      <th>ShapeFactor2</th>\n",
       "      <th>ShapeFactor3</th>\n",
       "      <th>ShapeFactor4</th>\n",
       "      <th>Class</th>\n",
       "    </tr>\n",
       "  </thead>\n",
       "  <tbody>\n",
       "    <tr>\n",
       "      <th>0</th>\n",
       "      <td>-0.997081</td>\n",
       "      <td>-1.290647</td>\n",
       "      <td>-1.120401</td>\n",
       "      <td>-1.473842</td>\n",
       "      <td>0.262269</td>\n",
       "      <td>0.478515</td>\n",
       "      <td>-0.995816</td>\n",
       "      <td>-1.330397</td>\n",
       "      <td>-0.799796</td>\n",
       "      <td>0.057534</td>\n",
       "      <td>0.382244</td>\n",
       "      <td>-0.353291</td>\n",
       "      <td>2.489086</td>\n",
       "      <td>0.678221</td>\n",
       "      <td>-0.386044</td>\n",
       "      <td>0.573989</td>\n",
       "      <td>DERMASON</td>\n",
       "    </tr>\n",
       "    <tr>\n",
       "      <th>1</th>\n",
       "      <td>1.079840</td>\n",
       "      <td>1.378508</td>\n",
       "      <td>0.895851</td>\n",
       "      <td>1.556096</td>\n",
       "      <td>-0.508400</td>\n",
       "      <td>-0.255766</td>\n",
       "      <td>1.086066</td>\n",
       "      <td>1.272269</td>\n",
       "      <td>0.780167</td>\n",
       "      <td>-0.710600</td>\n",
       "      <td>-1.167619</td>\n",
       "      <td>0.443399</td>\n",
       "      <td>-1.660960</td>\n",
       "      <td>-0.605992</td>\n",
       "      <td>0.411600</td>\n",
       "      <td>0.539056</td>\n",
       "      <td>BARBUNYA</td>\n",
       "    </tr>\n",
       "    <tr>\n",
       "      <th>2</th>\n",
       "      <td>-0.399247</td>\n",
       "      <td>-0.258129</td>\n",
       "      <td>-0.043884</td>\n",
       "      <td>-0.771747</td>\n",
       "      <td>1.228816</td>\n",
       "      <td>1.059278</td>\n",
       "      <td>-0.398674</td>\n",
       "      <td>-0.399408</td>\n",
       "      <td>-2.742996</td>\n",
       "      <td>-0.085355</td>\n",
       "      <td>-1.021913</td>\n",
       "      <td>-1.205649</td>\n",
       "      <td>0.962659</td>\n",
       "      <td>-0.687449</td>\n",
       "      <td>-1.185539</td>\n",
       "      <td>-0.461860</td>\n",
       "      <td>HOROZ</td>\n",
       "    </tr>\n",
       "    <tr>\n",
       "      <th>3</th>\n",
       "      <td>0.567520</td>\n",
       "      <td>0.853157</td>\n",
       "      <td>1.187270</td>\n",
       "      <td>0.239562</td>\n",
       "      <td>1.601924</td>\n",
       "      <td>1.222725</td>\n",
       "      <td>0.567135</td>\n",
       "      <td>0.756087</td>\n",
       "      <td>1.103026</td>\n",
       "      <td>-0.179103</td>\n",
       "      <td>-1.022033</td>\n",
       "      <td>-1.520070</td>\n",
       "      <td>-0.446775</td>\n",
       "      <td>-1.324419</td>\n",
       "      <td>-1.466396</td>\n",
       "      <td>-1.899307</td>\n",
       "      <td>CALI</td>\n",
       "    </tr>\n",
       "    <tr>\n",
       "      <th>4</th>\n",
       "      <td>-0.772396</td>\n",
       "      <td>-1.014998</td>\n",
       "      <td>-0.972606</td>\n",
       "      <td>-0.847312</td>\n",
       "      <td>-0.567204</td>\n",
       "      <td>-0.327418</td>\n",
       "      <td>-0.775575</td>\n",
       "      <td>-0.950097</td>\n",
       "      <td>0.487082</td>\n",
       "      <td>0.814363</td>\n",
       "      <td>1.117122</td>\n",
       "      <td>0.507116</td>\n",
       "      <td>1.075050</td>\n",
       "      <td>0.964806</td>\n",
       "      <td>0.477495</td>\n",
       "      <td>0.422180</td>\n",
       "      <td>DERMASON</td>\n",
       "    </tr>\n",
       "  </tbody>\n",
       "</table>\n",
       "</div>"
      ],
      "text/plain": [
       "       Area  Perimeter  MajorAxisLength  MinorAxisLength  AspectRation  \\\n",
       "0 -0.997081  -1.290647        -1.120401        -1.473842      0.262269   \n",
       "1  1.079840   1.378508         0.895851         1.556096     -0.508400   \n",
       "2 -0.399247  -0.258129        -0.043884        -0.771747      1.228816   \n",
       "3  0.567520   0.853157         1.187270         0.239562      1.601924   \n",
       "4 -0.772396  -1.014998        -0.972606        -0.847312     -0.567204   \n",
       "\n",
       "   Eccentricity  ConvexArea  EquivDiameter    Extent  Solidity  roundness  \\\n",
       "0      0.478515   -0.995816      -1.330397 -0.799796  0.057534   0.382244   \n",
       "1     -0.255766    1.086066       1.272269  0.780167 -0.710600  -1.167619   \n",
       "2      1.059278   -0.398674      -0.399408 -2.742996 -0.085355  -1.021913   \n",
       "3      1.222725    0.567135       0.756087  1.103026 -0.179103  -1.022033   \n",
       "4     -0.327418   -0.775575      -0.950097  0.487082  0.814363   1.117122   \n",
       "\n",
       "   Compactness  ShapeFactor1  ShapeFactor2  ShapeFactor3  ShapeFactor4  \\\n",
       "0    -0.353291      2.489086      0.678221     -0.386044      0.573989   \n",
       "1     0.443399     -1.660960     -0.605992      0.411600      0.539056   \n",
       "2    -1.205649      0.962659     -0.687449     -1.185539     -0.461860   \n",
       "3    -1.520070     -0.446775     -1.324419     -1.466396     -1.899307   \n",
       "4     0.507116      1.075050      0.964806      0.477495      0.422180   \n",
       "\n",
       "      Class  \n",
       "0  DERMASON  \n",
       "1  BARBUNYA  \n",
       "2     HOROZ  \n",
       "3      CALI  \n",
       "4  DERMASON  "
      ]
     },
     "execution_count": 20,
     "metadata": {},
     "output_type": "execute_result"
    }
   ],
   "source": [
    "train_data.head()"
   ]
  },
  {
   "cell_type": "code",
   "execution_count": 21,
   "metadata": {},
   "outputs": [
    {
     "data": {
      "text/plain": [
       "array(['HOROZ', 'CALI', 'BARBUNYA', 'DERMASON', 'SIRA', 'BOMBAY', 'SEKER'],\n",
       "      dtype=object)"
      ]
     },
     "execution_count": 21,
     "metadata": {},
     "output_type": "execute_result"
    }
   ],
   "source": [
    "test_data['Class'].unique()"
   ]
  },
  {
   "cell_type": "markdown",
   "metadata": {
    "id": "YxDH5MYE21sj"
   },
   "source": [
    "**Before feeding the data into the following algorithms, try to perform PCA, varying the number of PCs, and check what changes**"
   ]
  },
  {
   "cell_type": "markdown",
   "metadata": {
    "id": "FptPlXMAnuym"
   },
   "source": [
    "## K-Nearest Neighbors Classification\n",
    "\n",
    "Implement the KNN algorithm for classification."
   ]
  },
  {
   "cell_type": "code",
   "execution_count": 22,
   "metadata": {
    "id": "urjD3tGR3DV7"
   },
   "outputs": [],
   "source": [
    "from scipy.spatial.distance import euclidean, minkowski\n",
    "from tqdm import tqdm\n",
    "\n",
    "def distance(point_one, point_two, dist, p):\n",
    "    if dist == 'euclidean':\n",
    "        return euclidean(point_one, point_two)\n",
    "    else:\n",
    "        return minkowski(point_one, point_two, p=p)\n",
    "\n",
    "\n",
    "def get_neighbors(train_set, test_point, label_col, n_neighbors, dist, p):\n",
    "    # Calculate distances between the test point and all points in the training set\n",
    "    dist = np.array([distance(train_point, test_point, dist, p) for train_point in train_set])\n",
    "    # Get indices that would sort the distances in ascending order\n",
    "    idx_dist = dist.argsort()\n",
    "    # Order the training set and labels based on the sorted distances\n",
    "    ordered_train = train_set[idx_dist, :]\n",
    "    ordered_label = label_col[idx_dist]\n",
    "    # Return the top n_neighbors neighbors and their labels\n",
    "    return ordered_train[:n_neighbors], ordered_label[:n_neighbors]\n",
    "\n",
    "def predict(train_set, test_point, labels, n_neighbors, dist, p):\n",
    "    # Get the nearest neighbors and their labels\n",
    "    neigh, neigh_label = get_neighbors(train_set, test_point, labels, n_neighbors, dist, p)\n",
    "    # Count occurrences of each label among the neighbors\n",
    "    values, counts = np.unique(neigh_label, return_counts=True)\n",
    "    # Find the label with the highest count (majority class)\n",
    "    idx = np.argmax(counts)\n",
    "    # Return the predicted label\n",
    "    return values[idx]\n",
    "\n",
    "def evaluate(train_set, test_set, label, n_neighbors, dist='Euclidean', p=2):\n",
    "    # Initialize counters for correct and incorrect predictions\n",
    "    correct_predict = 0\n",
    "    wrong_predict = 0\n",
    "    # Extract labels and features from the training and test sets\n",
    "    \n",
    "    train_labels = train_set[label].values\n",
    "    train_set = train_set.drop(label, axis=1)\n",
    "    \n",
    "    test_labels = test_set[label].values\n",
    "    test_set = test_set.drop(label, axis=1)\n",
    "    # Iterate through each row in the test dataset\n",
    "    for index in tqdm(range(len(test_set.index))):\n",
    "        # Predict the class label for the current test row\n",
    "        result = predict(train_set.values, test_set.iloc[index].values, train_labels, n_neighbors, dist, p)\n",
    "        # Check if the predicted value matches the actual value\n",
    "        if result == test_labels[index]:\n",
    "            # Increase the correct prediction count\n",
    "            correct_predict += 1\n",
    "        else:\n",
    "            # Increase the incorrect prediction count\n",
    "            wrong_predict += 1\n",
    "\n",
    "    # Calculate and return the accuracy\n",
    "    accuracy = correct_predict / (correct_predict + wrong_predict)\n",
    "    return accuracy\n"
   ]
  },
  {
   "cell_type": "code",
   "execution_count": 23,
   "metadata": {
    "id": "cOUsnIsElYNA"
   },
   "outputs": [
    {
     "name": "stderr",
     "output_type": "stream",
     "text": [
      "100%|██████████| 3403/3403 [03:28<00:00, 16.34it/s]\n"
     ]
    }
   ],
   "source": [
    "knn_accuracy = evaluate(x_tr, x_te, \"Class\", n_neighbors=5)"
   ]
  },
  {
   "cell_type": "code",
   "execution_count": 83,
   "metadata": {
    "colab": {
     "base_uri": "https://localhost:8080/"
    },
    "id": "DdRfqW8mT25Z",
    "outputId": "2ce2c62a-1824-4205-f55f-fb088101eaae"
   },
   "outputs": [
    {
     "data": {
      "text/plain": [
       "0.9243976737745777"
      ]
     },
     "execution_count": 83,
     "metadata": {},
     "output_type": "execute_result"
    }
   ],
   "source": [
    "knn_accuracy"
   ]
  },
  {
   "cell_type": "markdown",
   "metadata": {
    "id": "TZd_CqNr3DnI"
   },
   "source": [
    "## Decision Trees with Numerical Features\n",
    "\n",
    "Modify the implementation of decision trees to account for numerical input features."
   ]
  },
  {
   "cell_type": "code",
   "execution_count": 45,
   "metadata": {
    "id": "2yVWtuSI3Q07"
   },
   "outputs": [],
   "source": [
    "# compute H(S)\n",
    "def entropy(train_data, label, class_list):\n",
    "    \"\"\"\n",
    "    Calculate the entropy of a dataset.\n",
    "\n",
    "    Parameters\n",
    "    ----------\n",
    "    train_data : DataFrame\n",
    "        The training dataset.\n",
    "    label : str\n",
    "        The name of the column representing the class labels.\n",
    "    class_list : list of str\n",
    "        List of possible values of the class labels.\n",
    "\n",
    "    Returns\n",
    "    -------\n",
    "    total_entr : float\n",
    "        The entropy of the dataset.\n",
    "    \"\"\"\n",
    "    # Get the total number of instances in the dataset\n",
    "    total_row = train_data.shape[0]\n",
    "    # Initialize the total entropy variable\n",
    "    total_entr = 0\n",
    "\n",
    "    # Iterate through each possible class in the label\n",
    "    for c in class_list:\n",
    "        # Count the number of points belonging to the current class\n",
    "        total_class_count = train_data[train_data[label] == c].shape[0]\n",
    "\n",
    "        # Check if there are instances of the class to avoid numerical errors\n",
    "        if total_class_count > 0:\n",
    "            # Calculate the entropy of the current class\n",
    "            total_class_entr = - (total_class_count / total_row) * np.log2(total_class_count / total_row)\n",
    "            # Add the entropy of the current class to the total entropy of the dataset\n",
    "            total_entr += total_class_entr\n",
    "\n",
    "    # Return the calculated total entropy of the dataset\n",
    "    return total_entr"
   ]
  },
  {
   "cell_type": "code",
   "execution_count": 46,
   "metadata": {
    "id": "bAF8R0lT03Um"
   },
   "outputs": [],
   "source": [
    "# compute H(S_j)\n",
    "def feature_entropy(left_data, right_data, label, class_list):\n",
    "    \"\"\"\n",
    "    Calculate the conditional entropy of a dataset split by a specific feature.\n",
    "\n",
    "    Parameters\n",
    "    ----------\n",
    "    left_data : DataFrame\n",
    "        Subset of the dataset where the feature has a specific value.\n",
    "    right_data : DataFrame\n",
    "        Subset of the dataset where the feature has another value.\n",
    "    label : str\n",
    "        The name of the column representing the class labels.\n",
    "    class_list : list of str\n",
    "        List of possible values of the class labels.\n",
    "\n",
    "    Returns\n",
    "    -------\n",
    "    ent : float\n",
    "        The conditional entropy of the dataset split by the feature.\n",
    "    \"\"\"\n",
    "    # Get the total number of points considered after the split\n",
    "    row_count = left_data.shape[0] + right_data.shape[0]\n",
    "\n",
    "    # Calculate the probabilities of the left and right subsets\n",
    "    p_left = left_data.shape[0] / row_count\n",
    "    p_right = right_data.shape[0] / row_count\n",
    "\n",
    "    # Calculate the conditional entropy using the weighted average of entropies for left and right subsets\n",
    "    ent = p_left * entropy(left_data, label, class_list) + p_right * entropy(right_data, label, class_list)\n",
    "\n",
    "    # Return the calculated conditional entropy\n",
    "    return ent"
   ]
  },
  {
   "cell_type": "code",
   "execution_count": 47,
   "metadata": {
    "id": "caDIpINC86M3"
   },
   "outputs": [],
   "source": [
    "def split(feature_column, threshold):\n",
    "    \"\"\"\n",
    "    Split the indices of data points based on a feature and a threshold.\n",
    "\n",
    "    Parameters\n",
    "    ----------\n",
    "    feature_column : array-like\n",
    "        The values of the feature for each data point.\n",
    "    threshold : float\n",
    "        The threshold value for splitting the data points.\n",
    "\n",
    "    Returns\n",
    "    -------\n",
    "    left_rows : array-like\n",
    "        Indices of data points where the feature value is less than or equal to the threshold.\n",
    "    right_rows : array-like\n",
    "        Indices of data points where the feature value is greater than the threshold.\n",
    "    \"\"\"\n",
    "    # Find the indices of data points where the feature value is less than or equal to the threshold\n",
    "    left_rows = np.argwhere(feature_column <= threshold).flatten()\n",
    "    # Find the indices of data points where the feature value is greater than the threshold\n",
    "    right_rows = np.argwhere(feature_column > threshold).flatten()\n",
    "\n",
    "    # Return the indices for left and right subsets\n",
    "    return left_rows, right_rows"
   ]
  },
  {
   "cell_type": "code",
   "execution_count": 48,
   "metadata": {
    "id": "NLv85AnDUO3X"
   },
   "outputs": [],
   "source": [
    "def information_gain(data, feature_name, label, class_list, threshold):\n",
    "    \"\"\"\n",
    "    Calculate the information gain after splitting the dataset based on a feature and a threshold.\n",
    "\n",
    "    Parameters\n",
    "    ----------\n",
    "    data : DataFrame\n",
    "        The dataset.\n",
    "    feature_name : str\n",
    "        The name of the feature for which information gain is calculated.\n",
    "    label : str\n",
    "        The name of the column representing the class labels.\n",
    "    class_list : list of str\n",
    "        List of possible values of the class labels.\n",
    "    threshold : float\n",
    "        The threshold value for splitting the dataset.\n",
    "\n",
    "    Returns\n",
    "    -------\n",
    "    feat_information_gain : float\n",
    "        The information gain achieved by splitting the dataset based on the specified feature and threshold.\n",
    "    \"\"\"\n",
    "    # Split the dataset into left and right subsets based on the feature and threshold\n",
    "    left_rows, right_rows = split(data[feature_name].values, threshold)\n",
    "\n",
    "    # Check if either subset is empty; if so, information gain is zero\n",
    "    if len(left_rows) == 0 or len(right_rows) == 0:\n",
    "        return 0\n",
    "\n",
    "    # Calculate the entropy of the split dataset\n",
    "    feat_entropy = feature_entropy(data.iloc[left_rows], data.iloc[right_rows], label, class_list)\n",
    "\n",
    "    return feat_entropy\n"
   ]
  },
  {
   "cell_type": "code",
   "execution_count": 49,
   "metadata": {
    "id": "Xzd4n-amVKzR"
   },
   "outputs": [],
   "source": [
    "def get_split_thresholds(feature_column, n_thresholds):\n",
    "    \"\"\"\n",
    "    Generate candidate split thresholds for a given feature column.\n",
    "\n",
    "    Parameters\n",
    "    ----------\n",
    "    feature_column : array-like\n",
    "        The values of the feature for each data point.\n",
    "    n_thresholds : int\n",
    "        The number of thresholds to generate.\n",
    "\n",
    "    Returns\n",
    "    -------\n",
    "    thresholds : list of float\n",
    "        List of candidate split thresholds for the feature column.\n",
    "    \"\"\"\n",
    "    # Extract the values of the feature column\n",
    "    feature_column = feature_column.values\n",
    "    # Get the total number of data points\n",
    "    n_data = len(feature_column)\n",
    "\n",
    "    # Sort the feature column in ascending order\n",
    "    sorted_column = np.sort(feature_column)\n",
    "\n",
    "    # Check if there is more than one data point\n",
    "    if len(feature_column) > 1:\n",
    "        # Split the sorted feature column into n_thresholds + 1 partitions\n",
    "        partitioned_array = np.array_split(sorted_column, n_thresholds + 1)\n",
    "\n",
    "        # Calculate the midpoint between consecutive partitions as candidate thresholds\n",
    "        thresholds = [(partitioned_array[i][-1] + partitioned_array[i + 1][0]) / 2 for i in range(len(partitioned_array) - 1)]\n",
    "    else:\n",
    "        # If there is only one data point, use it as the threshold\n",
    "        thresholds = [feature_column[0]]\n",
    "\n",
    "    # Return the list of candidate split thresholds\n",
    "    return thresholds\n"
   ]
  },
  {
   "cell_type": "code",
   "execution_count": 50,
   "metadata": {
    "id": "TS0nppcLVex3"
   },
   "outputs": [],
   "source": [
    "def most_informative_feature(train_data, label, class_list, n_thresholds):\n",
    "    \"\"\"\n",
    "    Find the most informative feature and its corresponding threshold for splitting the dataset.\n",
    "\n",
    "    Parameters\n",
    "    ----------\n",
    "    train_data : DataFrame\n",
    "        The training dataset.\n",
    "    label : str\n",
    "        The name of the column representing the class labels.\n",
    "    class_list : list of str\n",
    "        List of possible values of the class labels.\n",
    "    n_thresholds : int\n",
    "        The number of thresholds to generate for each feature.\n",
    "\n",
    "    Returns\n",
    "    -------\n",
    "    min_entropy_feature : str\n",
    "        The name of the most informative feature.\n",
    "    min_entropy_threshold : float\n",
    "        The corresponding threshold for splitting the dataset based on the most informative feature.\n",
    "    \"\"\"\n",
    "    # Get the list of features excluding the label\n",
    "    feature_list = train_data.columns.drop(label)\n",
    "\n",
    "    # Initialize variables to store the minimum entropy and corresponding feature and threshold\n",
    "    min_entropy = float('inf')\n",
    "    min_entropy_feature = None\n",
    "    min_entropy_threshold = None\n",
    "\n",
    "    # Iterate over each feature in the feature list\n",
    "    for feature in feature_list:\n",
    "        # Generate candidate split thresholds for the current feature\n",
    "        thresholds = get_split_thresholds(train_data[feature], n_thresholds)\n",
    "\n",
    "        # Iterate over each threshold\n",
    "        for t in thresholds:\n",
    "            # Calculate information gain for the current feature and threshold\n",
    "            info_gain = information_gain(train_data, feature, label, class_list, t)\n",
    "\n",
    "            # Check if the calculated information gain is less than the current minimum entropy\n",
    "            if info_gain < min_entropy:\n",
    "                # Update the minimum entropy and corresponding feature and threshold\n",
    "                min_entropy = info_gain\n",
    "                min_entropy_feature = feature\n",
    "                min_entropy_threshold = t\n",
    "\n",
    "    # Return the most informative feature and its corresponding threshold\n",
    "    return min_entropy_feature, min_entropy_threshold"
   ]
  },
  {
   "cell_type": "code",
   "execution_count": 51,
   "metadata": {
    "id": "SFkkyLqj67Ce"
   },
   "outputs": [],
   "source": [
    "def is_leaf(train_data, label):\n",
    "    \"\"\"\n",
    "    Check if a node in a decision tree is a leaf node.\n",
    "\n",
    "    Parameters\n",
    "    ----------\n",
    "    train_data : DataFrame\n",
    "        The dataset associated with the current node.\n",
    "    label : str\n",
    "        The name of the column representing the class labels.\n",
    "\n",
    "    Returns\n",
    "    -------\n",
    "    bool\n",
    "        True if the node is a leaf node (contains only one class), False otherwise.\n",
    "    \"\"\"\n",
    "    # Get the unique classes in the current node\n",
    "    classes_in_node = np.unique(train_data[label])\n",
    "\n",
    "    # Check if there is only one class in the node\n",
    "    if len(classes_in_node) == 1:\n",
    "        # If there is only one class, the node is a leaf node\n",
    "        return True\n",
    "    else:\n",
    "        # If there is more than one class, the node is not a leaf node\n",
    "        return False"
   ]
  },
  {
   "cell_type": "code",
   "execution_count": 52,
   "metadata": {
    "id": "nmSk5xUd8SgM"
   },
   "outputs": [],
   "source": [
    "def leaf_class(train_data, label):\n",
    "    \"\"\"\n",
    "    Determine the class of a leaf node in a decision tree.\n",
    "\n",
    "    Parameters\n",
    "    ----------\n",
    "    train_data : DataFrame\n",
    "        The dataset associated with the leaf node.\n",
    "    label : str\n",
    "        The name of the column representing the class labels.\n",
    "\n",
    "    Returns\n",
    "    -------\n",
    "    leaf_class : str\n",
    "        The class label assigned to the leaf node.\n",
    "    \"\"\"\n",
    "    # Get the unique classes and their counts in the current leaf node\n",
    "    class_list, count_class = np.unique(train_data[label], return_counts=True)\n",
    "\n",
    "    # Find the index of the class with the highest count (most frequent class)\n",
    "    idx = count_class.argmax()\n",
    "\n",
    "    # Return the class label associated with the most frequent class in the leaf node\n",
    "    return class_list[idx]"
   ]
  },
  {
   "cell_type": "code",
   "execution_count": 53,
   "metadata": {
    "id": "TbRY5klnWCMP"
   },
   "outputs": [],
   "source": [
    "def make_tree(train_data, label, class_list, n_thresholds, cur_depth, min_samples, max_depth):\n",
    "    \"\"\"\n",
    "    Recursively build a decision tree.\n",
    "\n",
    "    Parameters\n",
    "    ----------\n",
    "    train_data : DataFrame\n",
    "        The training dataset associated with the current node.\n",
    "    label : str\n",
    "        The name of the column representing the class labels.\n",
    "    class_list : list of str\n",
    "        List of possible values of the class labels.\n",
    "    n_thresholds : int\n",
    "        The number of thresholds to generate for each feature.\n",
    "    cur_depth : int\n",
    "        The current depth of the decision tree.\n",
    "    min_samples : int\n",
    "        The minimum number of samples required to split a node.\n",
    "    max_depth : int\n",
    "        The maximum depth of the decision tree.\n",
    "\n",
    "    Returns\n",
    "    -------\n",
    "    tree : dict or str\n",
    "        The constructed decision tree represented as a nested dictionary. If a leaf node, returns the class label.\n",
    "    \"\"\"\n",
    "    # Check stopping conditions for creating a leaf node\n",
    "    if is_leaf(train_data, label) or cur_depth >= max_depth or len(train_data) <= min_samples:\n",
    "        return leaf_class(train_data, label)\n",
    "    else:\n",
    "        # Increment the current depth for the next level of recursion\n",
    "        cur_depth += 1\n",
    "\n",
    "        # Find the most informative feature and its corresponding threshold for splitting\n",
    "        split_feature, split_threshold = most_informative_feature(train_data, label, class_list, n_thresholds)\n",
    "\n",
    "        # Split the dataset into left and right subsets based on the feature and threshold\n",
    "        left_rows, right_rows = split(train_data[split_feature].values, split_threshold)\n",
    "\n",
    "        # Check if either subset is empty; if so, create a leaf node\n",
    "        if len(left_rows) == 0 or len(right_rows) == 0:\n",
    "            return leaf_class(train_data, label)\n",
    "        else:\n",
    "            # Build the subtree\n",
    "            split_condition = \"{} <= {}\".format(split_feature, split_threshold)\n",
    "            sub_tree = {split_condition: []}\n",
    "\n",
    "            # Recursive calls for the left and right branches\n",
    "            left_branch = make_tree(train_data.iloc[left_rows], label, class_list, n_thresholds, cur_depth, min_samples, max_depth)\n",
    "            right_branch = make_tree(train_data.iloc[right_rows], label, class_list, n_thresholds, cur_depth, min_samples, max_depth)\n",
    "\n",
    "            # Check if both branches result in the same leaf class; if so, make the subtree a leaf\n",
    "            if left_branch == right_branch:\n",
    "                sub_tree = left_branch\n",
    "            else:\n",
    "                # Grow the tree by adding left and right branches to the split condition\n",
    "                sub_tree[split_condition].append(left_branch)\n",
    "                sub_tree[split_condition].append(right_branch)\n",
    "\n",
    "            return sub_tree"
   ]
  },
  {
   "cell_type": "code",
   "execution_count": 54,
   "metadata": {
    "id": "DrEcz2r31Mek"
   },
   "outputs": [],
   "source": [
    "def id3(train_data_m, label, n_thresholds=1, min_samples=4, max_depth=6):\n",
    "    \"\"\"\n",
    "    Build a decision tree using the ID3 algorithm.\n",
    "\n",
    "    Parameters\n",
    "    ----------\n",
    "    train_data_m : DataFrame\n",
    "        The training dataset.\n",
    "    label : str\n",
    "        The name of the column representing the class labels.\n",
    "    n_thresholds : int, optional\n",
    "        The number of thresholds to generate for each feature.\n",
    "    min_samples : int, optional\n",
    "        The minimum number of samples required to split a node.\n",
    "    max_depth : int, optional\n",
    "        The maximum depth of the decision tree.\n",
    "\n",
    "    Returns\n",
    "    -------\n",
    "    tree : dict or str\n",
    "        The constructed decision tree represented as a nested dictionary. If a leaf node, returns the class label.\n",
    "    \"\"\"\n",
    "    # Create a copy of the training dataset\n",
    "    train_data = train_data_m.copy()\n",
    "\n",
    "    # Get the unique classes of the label\n",
    "    class_list = train_data[label].unique()\n",
    "\n",
    "    # Start the recursion by calling the make_tree function\n",
    "    tree = make_tree(train_data, label, class_list, n_thresholds, 0, min_samples, max_depth)\n",
    "\n",
    "    # Return the constructed decision tree\n",
    "    return tree"
   ]
  },
  {
   "cell_type": "code",
   "execution_count": 55,
   "metadata": {
    "colab": {
     "base_uri": "https://localhost:8080/"
    },
    "id": "9qYx-Fk6CAMF",
    "outputId": "2ea66f87-f0b4-402d-d1ea-c798041fb372"
   },
   "outputs": [
    {
     "name": "stdout",
     "output_type": "stream",
     "text": [
      "{'MajorAxisLength <= -0.26850534253244707': [{'MinorAxisLength <= -0.48101943425512017': [{'Area <= -0.7284149650882628': ['DERMASON', {'Perimeter <= -0.7436366901340172': ['DERMASON', {'roundness <= 0.34196234239628087': [{'ShapeFactor1 <= 0.742560155983303': ['SIRA', 'DERMASON']}, 'DERMASON']}]}]}, {'AspectRation <= -1.0816890411884459': ['SEKER', {'ShapeFactor2 <= 0.30636007444314095': ['SIRA', {'ShapeFactor1 <= 0.14890193826388914': [{'Compactness <= 0.8530383347908611': ['SIRA', 'SEKER']}, 'DERMASON']}]}]}]}, {'ShapeFactor1 <= -0.4188395892843162': [{'ShapeFactor2 <= -0.970259723740702': [{'Perimeter <= 1.2423181848501317': ['CALI', {'ShapeFactor1 <= -2.601011987728354': ['BOMBAY', 'CALI']}]}, {'roundness <= -0.655896778746935': ['BARBUNYA', {'Compactness <= -0.19114716081240862': ['CALI', {'roundness <= -0.07128514945601658': ['BARBUNYA', 'CALI']}]}]}]}, {'Compactness <= -1.1840258480155355': ['HOROZ', {'roundness <= 0.019868264666345184': [{'roundness <= -0.33450228559615847': [{'Compactness <= -0.8153488174886201': ['HOROZ', 'SIRA']}, 'SIRA']}, 'SIRA']}]}]}]}\n"
     ]
    }
   ],
   "source": [
    "t = id3(train_data, 'Class')\n",
    "print(t)"
   ]
  },
  {
   "cell_type": "code",
   "execution_count": 56,
   "metadata": {
    "id": "RvbhleJ0We6n"
   },
   "outputs": [],
   "source": [
    "def predict(test_point, tree):\n",
    "    \"\"\"\n",
    "    Predict the class label for a given test point using a decision tree.\n",
    "\n",
    "    Parameters\n",
    "    ----------\n",
    "    test_point : Series\n",
    "        The test point for which the class label is predicted.\n",
    "    tree : dict or str\n",
    "        The decision tree used for prediction.\n",
    "\n",
    "    Returns\n",
    "    -------\n",
    "    prediction : str\n",
    "        The predicted class label for the test point.\n",
    "    \"\"\"\n",
    "    # Base case: if the tree is a leaf node (a class label)\n",
    "    if not isinstance(tree, dict):\n",
    "        return tree\n",
    "\n",
    "    # Recursive case: traverse the tree based on feature values\n",
    "    question = list(tree.keys())[0]\n",
    "    attribute, value = question.split(\" <= \")\n",
    "\n",
    "    # Check the condition and follow the appropriate branch\n",
    "    if test_point[attribute] <= float(value):\n",
    "        answer = tree[question][0]\n",
    "    else:\n",
    "        answer = tree[question][1]\n",
    "\n",
    "    # Recursive call on the selected branch\n",
    "    return predict(test_point, answer)\n",
    "\n",
    "\n",
    "def evaluate(tree, test_data, label):\n",
    "    \"\"\"\n",
    "    Evaluate the accuracy of a decision tree on a test dataset.\n",
    "\n",
    "    Parameters\n",
    "    ----------\n",
    "    tree : dict or str\n",
    "        The decision tree to be evaluated.\n",
    "    test_data : DataFrame\n",
    "        The test dataset.\n",
    "    label : str\n",
    "        The name of the column representing the class labels.\n",
    "\n",
    "    Returns\n",
    "    -------\n",
    "    accuracy : float\n",
    "        The accuracy of the decision tree on the test dataset.\n",
    "    \"\"\"\n",
    "    correct_predict = 0\n",
    "    wrong_predict = 0\n",
    "\n",
    "    # Iterate over each row in the test dataset\n",
    "    for index in tqdm(range(len(test_data.index))):\n",
    "        # Predict the class label for the current test point\n",
    "        result = predict(test_data.iloc[index], tree)\n",
    "\n",
    "        # Check if the predicted value matches the expected value\n",
    "        if result == test_data[label].iloc[index]:\n",
    "            correct_predict += 1  # Increase correct count\n",
    "        else:\n",
    "            wrong_predict += 1  # Increase incorrect count\n",
    "\n",
    "    # Calculate and return the accuracy\n",
    "    accuracy = correct_predict / (correct_predict + wrong_predict)\n",
    "    return accuracy"
   ]
  },
  {
   "cell_type": "code",
   "execution_count": 57,
   "metadata": {
    "colab": {
     "base_uri": "https://localhost:8080/"
    },
    "id": "YVHYP7puWnDg",
    "outputId": "e42f2ed6-1995-4a29-8d28-e8bc7be278ef"
   },
   "outputs": [
    {
     "name": "stderr",
     "output_type": "stream",
     "text": [
      "100%|██████████| 3611/3611 [00:00<00:00, 23496.46it/s]\n"
     ]
    },
    {
     "data": {
      "text/plain": [
       "0.8773193021323733"
      ]
     },
     "execution_count": 57,
     "metadata": {},
     "output_type": "execute_result"
    }
   ],
   "source": [
    "evaluate(t, test_data, 'Class')"
   ]
  },
  {
   "cell_type": "markdown",
   "metadata": {
    "id": "eL_3XYt33RH8"
   },
   "source": [
    "## Gaussian Naive Bayes\n",
    "Modify the implementation of naive Bayes to accout for numerical input features. The likelihood of each class ($p(data|class)$) is assumed to be a Gaussian $\\frac{1}{\\sqrt(\\sigma^2 2 \\pi)} \\exp (-\\frac{1}{2} \\frac{(x-\\mu)^2}{\\sigma^2})$, where $\\mu, \\sigma^2$ are the mean and the variance for each class;"
   ]
  },
  {
   "cell_type": "code",
   "execution_count": 58,
   "metadata": {
    "id": "bri49QEpXq1t"
   },
   "outputs": [],
   "source": [
    "def prior(train_data, label):\n",
    "    \"\"\"\n",
    "    Calculate the log prior probabilities for each class in the dataset.\n",
    "\n",
    "    Parameters\n",
    "    ----------\n",
    "    train_data : DataFrame\n",
    "        The training dataset.\n",
    "    label : str\n",
    "        The name of the column representing the class labels.\n",
    "\n",
    "    Returns\n",
    "    -------\n",
    "    priors : array-like\n",
    "        The log prior probabilities for each class.\n",
    "    \"\"\"\n",
    "    # Calculate the prior probabilities for each class\n",
    "    priors = train_data.groupby(by=label).apply(lambda x: len(x) / len(train_data))\n",
    "\n",
    "    # Return the log of the prior probabilities as an array\n",
    "    return np.log(priors).values\n",
    "\n",
    "\n",
    "def mean_variance(train_data, label):\n",
    "    \"\"\"\n",
    "    Calculate the mean and variance for each feature in the dataset, grouped by class.\n",
    "\n",
    "    Parameters\n",
    "    ----------\n",
    "    train_data : DataFrame\n",
    "        The training dataset.\n",
    "    label : str\n",
    "        The name of the column representing the class labels.\n",
    "\n",
    "    Returns\n",
    "    -------\n",
    "    mean : array-like\n",
    "        The mean values for each feature and class.\n",
    "    variance : array-like\n",
    "        The variance values for each feature and class.\n",
    "    \"\"\"\n",
    "    # Calculate the mean values for each feature and class\n",
    "    mean = train_data.groupby(by=label).apply(lambda x: x.mean(axis=0))\n",
    "\n",
    "    # Calculate the variance values for each feature and class\n",
    "    variance = train_data.groupby(by=label).apply(lambda x: x.var(axis=0))\n",
    "\n",
    "    # Return the mean and variance as arrays\n",
    "    return (mean.values, variance.values + 1e-9)\n",
    "\n",
    "\n",
    "def gaussian_density(mean, variance, point):\n",
    "    \"\"\"\n",
    "    Calculate the Gaussian probability density for a given point.\n",
    "\n",
    "    Parameters\n",
    "    ----------\n",
    "    mean : array-like\n",
    "        The mean values for each feature and class.\n",
    "    variance : array-like\n",
    "        The variance values for each feature and class.\n",
    "    point : array-like\n",
    "        The values of the features for a given point.\n",
    "\n",
    "    Returns\n",
    "    -------\n",
    "    density : array-like\n",
    "        The Gaussian probability density for the given point.\n",
    "    \"\"\"\n",
    "    # Calculate the Gaussian probability density for each feature\n",
    "    d = (1 / np.sqrt(2*np.pi*variance)) * np.exp((-(point - mean)**2) / (2*variance))\n",
    "\n",
    "    # Return the density as an array\n",
    "    return d\n",
    "\n",
    "\n",
    "def train_gaussian_naive_bayes(train_data, label):\n",
    "    \"\"\"\n",
    "    Train a Gaussian Naive Bayes classifier.\n",
    "\n",
    "    Parameters\n",
    "    ----------\n",
    "    train_data : DataFrame\n",
    "        The training dataset.\n",
    "    label : str\n",
    "        The name of the column representing the class labels.\n",
    "\n",
    "    Returns\n",
    "    -------\n",
    "    model : dict\n",
    "        A dictionary containing the parameters of the trained Gaussian Naive Bayes model.\n",
    "    \"\"\"\n",
    "    # Calculate the mean and variance for each feature and class\n",
    "    mean, variance = mean_variance(train_data, label)\n",
    "\n",
    "    # Calculate the log prior probabilities for each class\n",
    "    priors = prior(train_data, label)\n",
    "\n",
    "    # Get unique class labels and their count\n",
    "    unique_labels = train_data[label].unique()\n",
    "    n_labels = len(unique_labels)\n",
    "\n",
    "    # Construct and return the Gaussian Naive Bayes model\n",
    "    return {'n_labels': n_labels, 'unique_labels': unique_labels, 'n_classes': n_labels, 'mean': mean,\n",
    "            'variance': variance, 'prior': priors}\n"
   ]
  },
  {
   "cell_type": "code",
   "execution_count": 59,
   "metadata": {
    "colab": {
     "base_uri": "https://localhost:8080/"
    },
    "id": "m3sq6De4qIhM",
    "outputId": "c7ea73d5-4544-4d25-e7b2-856094b31ad8"
   },
   "outputs": [
    {
     "name": "stderr",
     "output_type": "stream",
     "text": [
      "C:\\Users\\pitom\\AppData\\Local\\Temp\\ipykernel_1680\\1237244830.py:18: DeprecationWarning: DataFrameGroupBy.apply operated on the grouping columns. This behavior is deprecated, and in a future version of pandas the grouping columns will be excluded from the operation. Either pass `include_groups=False` to exclude the groupings or explicitly select the grouping columns after groupby to silence this warning.\n",
      "  priors = train_data.groupby(by=label).apply(lambda x: len(x) / len(train_data))\n"
     ]
    }
   ],
   "source": [
    "gaus_bayes = train_gaussian_naive_bayes(train_data, 'Class')"
   ]
  },
  {
   "cell_type": "code",
   "execution_count": 60,
   "metadata": {},
   "outputs": [
    {
     "name": "stdout",
     "output_type": "stream",
     "text": [
      "(7, 16)\n"
     ]
    }
   ],
   "source": [
    "print(gaus_bayes['mean'].shape)"
   ]
  },
  {
   "cell_type": "code",
   "execution_count": 61,
   "metadata": {
    "id": "sK09w28tqO_l"
   },
   "outputs": [],
   "source": [
    "def posterior(point, mean, variance, class_list, n_classes, n_feat):\n",
    "    \"\"\"\n",
    "    Calculate the log posterior probabilities for each class given a data point.\n",
    "\n",
    "    Parameters\n",
    "    ----------\n",
    "    point : array-like\n",
    "        The values of the features for a given data point.\n",
    "    mean : array-like\n",
    "        The mean values for each feature and class.\n",
    "    variance : array-like\n",
    "        The variance values for each feature and class.\n",
    "    class_list : array-like\n",
    "        The unique class labels.\n",
    "    n_classes : int\n",
    "        The number of classes.\n",
    "    n_feat : int\n",
    "        The number of features.\n",
    "\n",
    "    Returns\n",
    "    -------\n",
    "    posteriors : array-like\n",
    "        The log posterior probabilities for each class.\n",
    "    \"\"\"\n",
    "    posteriors = []\n",
    "    for i in range(n_classes):\n",
    "        posterior = 0\n",
    "        for j in range(n_feat):\n",
    "            posterior += np.log(gaussian_density(mean[i][j], variance[i][j], point[j]))\n",
    "        posteriors.append(posterior)\n",
    "    return posteriors\n",
    "\n",
    "\n",
    "def predict(test_data, label, gaus_bayes):\n",
    "    \"\"\"\n",
    "    Predict the class labels for a given test dataset using a trained Gaussian Naive Bayes model.\n",
    "\n",
    "    Parameters\n",
    "    ----------\n",
    "    test_data : DataFrame\n",
    "        The test dataset.\n",
    "    label : str\n",
    "        The name of the column representing the class labels.\n",
    "    gaus_bayes : dict\n",
    "        A dictionary containing the parameters of the trained Gaussian Naive Bayes model.\n",
    "\n",
    "    Returns\n",
    "    -------\n",
    "    predictions : array-like\n",
    "        The predicted class labels for the test dataset.\n",
    "    \"\"\"\n",
    "    predictions = []\n",
    "    n_feat = len(test_data.columns) - 1\n",
    "    for i in range(len(test_data)):\n",
    "        pr = gaus_bayes['prior']\n",
    "        post = posterior(test_data.iloc[i, :-1], gaus_bayes['mean'], gaus_bayes['variance'],\n",
    "                         gaus_bayes['unique_labels'], gaus_bayes['n_classes'], n_feat)\n",
    "        prob = pr + post\n",
    "        max_prob_class_idx = np.argmax(prob)\n",
    "        predictions.append(gaus_bayes['unique_labels'][max_prob_class_idx])\n",
    "    return predictions\n",
    "\n",
    "\n",
    "def evaluate(test_data, label, gaus_bayes):\n",
    "    \"\"\"\n",
    "    Evaluate the accuracy of a Gaussian Naive Bayes model on a test dataset.\n",
    "\n",
    "    Parameters\n",
    "    ----------\n",
    "    test_data : DataFrame\n",
    "        The test dataset.\n",
    "    label : str\n",
    "        The name of the column representing the class labels.\n",
    "    gaus_bayes : dict\n",
    "        A dictionary containing the parameters of the trained Gaussian Naive Bayes model.\n",
    "\n",
    "    Returns\n",
    "    -------\n",
    "    accuracy : float\n",
    "        The accuracy of the Gaussian Naive Bayes model on the test dataset.\n",
    "    \"\"\"\n",
    "    gaus_pred = predict(test_data, label, gaus_bayes)\n",
    "    correct_predict = 0\n",
    "    wrong_predict = 0\n",
    "    for index in tqdm(range(len(test_data.index))):\n",
    "        if gaus_pred[index] == test_data[label].iloc[index]:\n",
    "            correct_predict += 1\n",
    "        else:\n",
    "            wrong_predict += 1\n",
    "    accuracy = correct_predict / (correct_predict + wrong_predict)\n",
    "    return accuracy"
   ]
  },
  {
   "cell_type": "code",
   "execution_count": 62,
   "metadata": {},
   "outputs": [
    {
     "name": "stderr",
     "output_type": "stream",
     "text": [
      "C:\\Users\\pitom\\AppData\\Local\\Temp\\ipykernel_1680\\116866810.py:29: FutureWarning: Series.__getitem__ treating keys as positions is deprecated. In a future version, integer keys will always be treated as labels (consistent with DataFrame behavior). To access a value by position, use `ser.iloc[pos]`\n",
      "  posterior += np.log(gaussian_density(mean[i][j], variance[i][j], point[j]))\n",
      "C:\\Users\\pitom\\AppData\\Local\\Temp\\ipykernel_1680\\116866810.py:29: RuntimeWarning: divide by zero encountered in log\n",
      "  posterior += np.log(gaussian_density(mean[i][j], variance[i][j], point[j]))\n",
      "100%|██████████| 3611/3611 [00:00<00:00, 199054.14it/s]\n"
     ]
    },
    {
     "data": {
      "text/plain": [
       "0.003323179174743838"
      ]
     },
     "execution_count": 62,
     "metadata": {},
     "output_type": "execute_result"
    }
   ],
   "source": [
    "evaluate(test_data, 'Class', gaus_bayes)"
   ]
  },
  {
   "cell_type": "code",
   "execution_count": 63,
   "metadata": {},
   "outputs": [],
   "source": [
    "from sklearn.naive_bayes import GaussianNB\n",
    "\n",
    "nb = GaussianNB()\n",
    "\n",
    "cols = list(set(train_data.columns) - {'Class'})\n",
    "\n",
    "nb.fit(train_data[cols], train_data['Class'])\n",
    "\n",
    "pred = nb.predict(test_data[cols])"
   ]
  },
  {
   "cell_type": "code",
   "execution_count": 51,
   "metadata": {},
   "outputs": [
    {
     "name": "stdout",
     "output_type": "stream",
     "text": [
      "0.903073940736638\n"
     ]
    }
   ],
   "source": [
    "print((pred == label_test.values).sum()/len(pred))"
   ]
  }
 ],
 "metadata": {
  "colab": {
   "provenance": []
  },
  "kernelspec": {
   "display_name": "Python 3",
   "language": "python",
   "name": "python3"
  },
  "language_info": {
   "codemirror_mode": {
    "name": "ipython",
    "version": 3
   },
   "file_extension": ".py",
   "mimetype": "text/x-python",
   "name": "python",
   "nbconvert_exporter": "python",
   "pygments_lexer": "ipython3",
   "version": "3.11.2"
  }
 },
 "nbformat": 4,
 "nbformat_minor": 0
}
